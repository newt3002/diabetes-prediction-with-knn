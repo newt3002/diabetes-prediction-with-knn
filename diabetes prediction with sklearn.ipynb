{
 "cells": [
  {
   "cell_type": "code",
   "execution_count": 14,
   "id": "291f3c44",
   "metadata": {},
   "outputs": [],
   "source": [
    "from sklearn.neighbors import KNeighborsClassifier\n",
    "from sklearn import metrics\n",
    "import numpy as np\n",
    "import matplotlib.pyplot as plt\n",
    "import pandas as pd"
   ]
  },
  {
   "cell_type": "code",
   "execution_count": 19,
   "id": "fa061beb",
   "metadata": {},
   "outputs": [
    {
     "name": "stdout",
     "output_type": "stream",
     "text": [
      "(460, 8) (116, 8)\n",
      "(460,) (116, 1)\n"
     ]
    }
   ],
   "source": [
    "x = pd.read_csv(\"Diabetes_XTrain.csv\").values\n",
    "y = pd.read_csv(\"Diabetes_YTrain.csv\").values\n",
    "from sklearn.model_selection import train_test_split as tts\n",
    "\n",
    "x_train, x_test, y_train, y_test = tts(x,y, test_size = 0.2, random_state = 7)\n",
    "y_train = y_train.reshape(460,)\n",
    "print(x_train.shape, x_test.shape)\n",
    "print(y_train.shape,y_test.shape)"
   ]
  },
  {
   "cell_type": "code",
   "execution_count": 20,
   "id": "84efdce4",
   "metadata": {},
   "outputs": [
    {
     "name": "stdout",
     "output_type": "stream",
     "text": [
      "[1 0 0 0 0 0 0 0 0 0 1 1 1 1 1 0 1 0 0 0 0 0 0 0 0 0 0 0 0 0 0 0 1 0 0 1 1\n",
      " 1 0 1 0 0 0 0 0 0 0 0 0 1 0 1 1 1 1 0 0 0 0 0 0 1 0 1 0 0 0 0 0 0 1 0 0 0\n",
      " 1 0 1 0 0 0 1 0 0 0 0 0 1 1 0 1 0 1 0 0 0 0 0 0 0 0 0 0 0 0 0 0 0 1 1 0 1\n",
      " 0 1 0 0 1] 0.75\n"
     ]
    }
   ],
   "source": [
    "def classifier(k):\n",
    "    knn = KNeighborsClassifier(n_neighbors=k)\n",
    "    knn.fit(x_train, y_train)\n",
    "    y_pred = knn.predict(x_test)\n",
    "    accuracy = metrics.accuracy_score(y_test, y_pred)\n",
    "    return y_pred, accuracy\n",
    "y_pred ,accuracy = classifier(7)\n",
    "print(y_pred,accuracy)"
   ]
  },
  {
   "cell_type": "code",
   "execution_count": 21,
   "id": "a20cf5dc",
   "metadata": {},
   "outputs": [
    {
     "name": "stdout",
     "output_type": "stream",
     "text": [
      "[0.6637931034482759, 0.6810344827586207, 0.6982758620689655, 0.7586206896551724, 0.7327586206896551, 0.75, 0.75, 0.7586206896551724, 0.7327586206896551, 0.7155172413793104, 0.75, 0.7068965517241379, 0.7586206896551724, 0.7413793103448276, 0.75]\n",
      "[1, 2, 3, 4, 5, 6, 7, 8, 9, 10, 11, 12, 13, 14, 15]\n"
     ]
    }
   ],
   "source": [
    "k_value = []\n",
    "score =[]\n",
    "for k in range (1,16):\n",
    "    y_pred, accuracy = classifier(k)\n",
    "    k_value.append(k)\n",
    "    score.append(accuracy)\n",
    "    \n",
    "print(score)\n",
    "print(k_value)"
   ]
  },
  {
   "cell_type": "code",
   "execution_count": 22,
   "id": "23918e1b",
   "metadata": {},
   "outputs": [
    {
     "data": {
      "image/png": "[encoded data removed]",
      "text/plain": [
       "<Figure size 432x288 with 1 Axes>"
      ]
     },
     "metadata": {
      "needs_background": "light"
     },
     "output_type": "display_data"
    }
   ],
   "source": [
    "# Validating the value of k\n",
    "plt.plot(k_value,score, marker= \"o\")\n",
    "plt.xlabel('k')\n",
    "plt.ylabel('accuracy')\n",
    "plt.show()"
   ]
  }
 ],
 "metadata": {
  "kernelspec": {
   "display_name": "Python 3",
   "language": "python",
   "name": "python3"
  },
  "language_info": {
   "codemirror_mode": {
    "name": "ipython",
    "version": 3
   },
   "file_extension": ".py",
   "mimetype": "text/x-python",
   "name": "python",
   "nbconvert_exporter": "python",
   "pygments_lexer": "ipython3",
   "version": "3.7.0"
  }
 },
 "nbformat": 4,
 "nbformat_minor": 5
}
