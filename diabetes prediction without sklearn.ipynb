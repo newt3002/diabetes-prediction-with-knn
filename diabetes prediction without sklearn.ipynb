{
 "cells": [
  {
   "cell_type": "code",
   "execution_count": 2,
   "id": "c214d003",
   "metadata": {},
   "outputs": [],
   "source": [
    "import pandas as pd\n",
    "import numpy as np\n",
    "import matplotlib.pyplot as plt"
   ]
  },
  {
   "cell_type": "code",
   "execution_count": 3,
   "id": "87aa8f80",
   "metadata": {},
   "outputs": [
    {
     "name": "stdout",
     "output_type": "stream",
     "text": [
      "(460, 8) (116, 8)\n",
      "(460, 1) (116, 1)\n"
     ]
    }
   ],
   "source": [
    "# Importing data set\n",
    "x = pd.read_csv(\"Diabetes_XTrain.csv\").values\n",
    "y = pd.read_csv(\"Diabetes_YTrain.csv\").values\n",
    "from sklearn.model_selection import train_test_split as tts\n",
    "\n",
    "x_train, x_test, y_train, y_test = tts(x,y, test_size = 0.2, random_state = 7)\n",
    "print(x_train.shape, x_test.shape)\n",
    "print(y_train.shape,y_test.shape)"
   ]
  },
  {
   "cell_type": "code",
   "execution_count": 4,
   "id": "03444c34",
   "metadata": {},
   "outputs": [],
   "source": [
    "def distance(a,k):\n",
    "    dist = np.sqrt(np.sum((x_train-a)**2, axis = 1))[np.newaxis].T # vector of all the distances from point a to all the points in dataset\n",
    "    new_mat = np.hstack([dist,y_train]) # stacking labels with distance vector to access corresponding labels\n",
    "    sortedArr = new_mat[new_mat[:,0].argsort()]\n",
    "    knn = sortedArr[0:k,:]\n",
    "    return knn"
   ]
  },
  {
   "cell_type": "code",
   "execution_count": 5,
   "id": "1e9f5cf6",
   "metadata": {},
   "outputs": [],
   "source": [
    "def prediction(a,k):\n",
    "    c =None\n",
    "    dist = distance(a,k)\n",
    "    one = (dist==1).sum()\n",
    "    zero = (dist==0).sum()\n",
    "    if one > zero:\n",
    "        c = 1\n",
    "    elif zero > one:\n",
    "        c = 0\n",
    "    return c"
   ]
  },
  {
   "cell_type": "code",
   "execution_count": 6,
   "id": "76d2ae27",
   "metadata": {},
   "outputs": [],
   "source": [
    "# Function to check accuracy of knn\n",
    "def accuracy (k):\n",
    "    n = 0\n",
    "    for i in range(x_test.shape[0]):\n",
    "        l = i*100/x_test.shape[0]\n",
    "        ex = x_test[i,:]\n",
    "        p = prediction(ex,k)\n",
    "        if p == y_test[i]:\n",
    "            n += 1\n",
    "    return n/(i+1)"
   ]
  },
  {
   "cell_type": "code",
   "execution_count": 7,
   "id": "5cfcf311",
   "metadata": {},
   "outputs": [
    {
     "name": "stdout",
     "output_type": "stream",
     "text": [
      "[0.6637931034482759, 0.4396551724137931, 0.6982758620689655, 0.6206896551724138, 0.7327586206896551, 0.646551724137931, 0.75, 0.6551724137931034, 0.7327586206896551, 0.6551724137931034, 0.75, 0.6551724137931034, 0.7586206896551724, 0.6982758620689655, 0.75]\n",
      "[1, 2, 3, 4, 5, 6, 7, 8, 9, 10, 11, 12, 13, 14, 15]\n"
     ]
    }
   ],
   "source": [
    "# Validating the value of k\n",
    "k_value = []\n",
    "score =[]\n",
    "for k in range (1,16):\n",
    "    k_value.append(k)\n",
    "    score.append(accuracy(k))\n",
    "    \n",
    "print(score)\n",
    "print(k_value)"
   ]
  },
  {
   "cell_type": "code",
   "execution_count": 8,
   "id": "48a59c54",
   "metadata": {},
   "outputs": [
    {
     "data": {
      "image/png": "[encoded data removed]",
      "text/plain": [
       "<Figure size 432x288 with 1 Axes>"
      ]
     },
     "metadata": {
      "needs_background": "light"
     },
     "output_type": "display_data"
    }
   ],
   "source": [
    "# Validating the value of k - plotting graph\n",
    "plt.plot(k_value,score, marker= \"o\")\n",
    "plt.xlabel('k')\n",
    "plt.ylabel('accuracy')\n",
    "plt.show()"
   ]
  },
  {
   "cell_type": "code",
   "execution_count": null,
   "id": "35814b15",
   "metadata": {},
   "outputs": [],
   "source": []
  }
 ],
 "metadata": {
  "kernelspec": {
   "display_name": "Python 3",
   "language": "python",
   "name": "python3"
  },
  "language_info": {
   "codemirror_mode": {
    "name": "ipython",
    "version": 3
   },
   "file_extension": ".py",
   "mimetype": "text/x-python",
   "name": "python",
   "nbconvert_exporter": "python",
   "pygments_lexer": "ipython3",
   "version": "3.7.0"
  }
 },
 "nbformat": 4,
 "nbformat_minor": 5
}
